{
 "cells": [
  {
   "cell_type": "markdown",
   "source": [
    "# 0.2: Transpile"
   ],
   "metadata": {
    "collapsed": false
   }
  },
  {
   "cell_type": "markdown",
   "source": [
    "In this example, we transpile the original `normalize` function from `torch` to `jax` in one line of code. This is a common use case, where there is *one* target framework in mind."
   ],
   "metadata": {
    "collapsed": false
   }
  },
  {
   "cell_type": "markdown",
   "source": [
    "Using what we learnt in the previous two notebooks for [Unify]() and [Compile](), the workflow for converting directly from `torch` to `jax` would be as follows, first unifying to `ivy` code, and then compiling to the `jax` backend:"
   ],
   "metadata": {
    "collapsed": false
   }
  },
  {
   "cell_type": "code",
   "execution_count": null,
   "outputs": [],
   "source": [
    "import ivy\n",
    "import torch\n",
    "ivy.set_backend(\"jax\")\n",
    "\n",
    "def normalize(x, mean, std):\n",
    "    return torch.div(torch.sub(x, mean), std)\n",
    "\n",
    "normalize = ivy.compile(ivy.unify(normalize))"
   ],
   "metadata": {
    "collapsed": false,
    "pycharm": {
     "is_executing": true
    }
   }
  },
  {
   "cell_type": "markdown",
   "source": [
    "`normalize` is now compiled to machine-code, specifically for `jax`, ready to be integrated into your wider `jax` project.\n",
    "\n",
    "This workflow is common, and so in order to avoid repeated calls to `ivy.unify` followed by `ivy.compile`, there is another convenience function `ivy.transpile`, which basically acts as a shorthand for this pair of function calls:"
   ],
   "metadata": {
    "collapsed": false
   }
  },
  {
   "cell_type": "code",
   "execution_count": null,
   "outputs": [],
   "source": [
    "normalize = ivy.transpile(normalize)"
   ],
   "metadata": {
    "collapsed": false
   }
  },
  {
   "cell_type": "markdown",
   "source": [
    "Again, `normalize` is now compiled to machine-code, specifically for `jax`, ready to be integrated into your wider `jax` project."
   ],
   "metadata": {
    "collapsed": false
   }
  },
  {
   "cell_type": "markdown",
   "source": [
    "## Round Up"
   ],
   "metadata": {
    "collapsed": false
   }
  },
  {
   "cell_type": "markdown",
   "source": [
    "That's it, you can now transpile code from one framework to another with one line of code! That concludes the collection of notebooks on the \"Building Blocks\". However, there are still many other important topics to master before you're ready to unify ML code like a pro 🥷. In the next collection of notebooks \"The Basics\", we'll be learning about the various different ways that `ivy.unify`, `ivy.compile` and `ivy.transpile` can be called, and what implications each of these have."
   ],
   "metadata": {
    "collapsed": false
   }
  }
 ],
 "metadata": {
  "kernelspec": {
   "display_name": "Python 3",
   "language": "python",
   "name": "python3"
  },
  "language_info": {
   "codemirror_mode": {
    "name": "ipython",
    "version": 2
   },
   "file_extension": ".py",
   "mimetype": "text/x-python",
   "name": "python",
   "nbconvert_exporter": "python",
   "pygments_lexer": "ipython2",
   "version": "2.7.6"
  }
 },
 "nbformat": 4,
 "nbformat_minor": 0
}
