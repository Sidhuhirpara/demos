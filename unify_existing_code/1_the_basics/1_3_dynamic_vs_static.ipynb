{
 "cells": [
  {
   "cell_type": "markdown",
   "source": [
    "# 1.3: Dynamic vs Static"
   ],
   "metadata": {
    "collapsed": false
   }
  },
  {
   "cell_type": "markdown",
   "source": [
    "The functions `ivy.unify`, `ivy.compile` and `ivy.transpile` can all be executed either in *dynamic* mode or *static* mode. In this demo, we explore how this mode is set, and what implications this has."
   ],
   "metadata": {
    "collapsed": false
   }
  },
  {
   "cell_type": "markdown",
   "source": [
    "## Dynamic"
   ],
   "metadata": {
    "collapsed": false
   }
  },
  {
   "cell_type": "markdown",
   "source": [
    "Dynamic mode means that Python dynamic control flow is included in the extracted computation graph. For example, `if` statements, `for` loops, `while` loops etc. would all be **included** if dynamic mode is set to `True`."
   ],
   "metadata": {
    "collapsed": false
   }
  },
  {
   "cell_type": "markdown",
   "source": [
    "## Static"
   ],
   "metadata": {
    "collapsed": false
   }
  },
  {
   "cell_type": "markdown",
   "source": [
    "Static mode means the opposite, where Python dynamic control flow is **not** included in the extracted computation graph. `if` statements, `for` loops, `while` loops etc. would all be **excluded** if dynamic mode is set to `False`."
   ],
   "metadata": {
    "collapsed": false
   }
  },
  {
   "cell_type": "markdown",
   "source": [
    "## ToDo: explain via examples why dynamic mode is set to True by default when transpiling to and from `numpy` and `torch`, but set to False by default when transpiling to and from `tensorflow` and `jax`."
   ],
   "metadata": {
    "collapsed": false
   }
  }
 ],
 "metadata": {
  "kernelspec": {
   "display_name": "Python 3",
   "language": "python",
   "name": "python3"
  },
  "language_info": {
   "codemirror_mode": {
    "name": "ipython",
    "version": 2
   },
   "file_extension": ".py",
   "mimetype": "text/x-python",
   "name": "python",
   "nbconvert_exporter": "python",
   "pygments_lexer": "ipython2",
   "version": "2.7.6"
  }
 },
 "nbformat": 4,
 "nbformat_minor": 0
}
