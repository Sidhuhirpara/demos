{
  "nbformat": 4,
  "nbformat_minor": 0,
  "metadata": {
    "colab": {
      "provenance": [],
      "toc_visible": true
    },
    "kernelspec": {
      "name": "python3",
      "display_name": "Python 3"
    },
    "language_info": {
      "name": "python"
    }
  },
  "cells": [
    {
      "cell_type": "markdown",
      "source": [
        "# Installs 💾\n"
      ],
      "metadata": {
        "id": "8Tp3BPU76thd"
      }
    },
    {
      "cell_type": "code",
      "source": [
        "!pip install ivy-core\n",
        "!pip install numpy"
      ],
      "metadata": {
        "id": "1jKvYv4t6uYj"
      },
      "execution_count": null,
      "outputs": []
    },
    {
      "cell_type": "markdown",
      "source": [
        "# Imports 🛃"
      ],
      "metadata": {
        "id": "9quQ_5uy6y4O"
      }
    },
    {
      "cell_type": "code",
      "source": [
        "import ivy\n",
        "import numpy as np"
      ],
      "metadata": {
        "id": "b3UaEIUv60Vb"
      },
      "execution_count": null,
      "outputs": []
    },
    {
      "cell_type": "markdown",
      "source": [
        "## Import Ivy compiler "
      ],
      "metadata": {
        "id": "l8d3g4Xj68it"
      }
    },
    {
      "cell_type": "code",
      "source": [
        "import ivy_compiler as ic"
      ],
      "metadata": {
        "id": "vEq2ypXr61fl"
      },
      "execution_count": null,
      "outputs": []
    },
    {
      "cell_type": "markdown",
      "source": [
        "# Function compilation 🛠"
      ],
      "metadata": {
        "id": "TRKyKYlj7Em-"
      }
    },
    {
      "cell_type": "markdown",
      "source": [
        "## Set backend\n"
      ],
      "metadata": {
        "id": "G9D3aSeM7IRJ"
      }
    },
    {
      "cell_type": "code",
      "source": [
        "ivy.set_backend(\"numpy\")"
      ],
      "metadata": {
        "id": "ptvw7YSD7GRA"
      },
      "execution_count": null,
      "outputs": []
    },
    {
      "cell_type": "markdown",
      "source": [
        "## Sample input"
      ],
      "metadata": {
        "id": "gz0O8iGF7MVE"
      }
    },
    {
      "cell_type": "code",
      "source": [
        "x = ivy.array([1., 2., 3.])"
      ],
      "metadata": {
        "id": "WRZVy2ov7NgV"
      },
      "execution_count": null,
      "outputs": []
    },
    {
      "cell_type": "markdown",
      "source": [
        "## Define function to compile"
      ],
      "metadata": {
        "id": "kRjhasvB7WNT"
      }
    },
    {
      "cell_type": "markdown",
      "source": [
        "Ivy can compile any function that produce numerical outputs. Compiler track values from inputs to outputs and produce a computational graph from those operations and will ignore anything that does not affect final output value. It will ignore all intermediate dummy variables, operations, and print statements."
      ],
      "metadata": {
        "id": "vdgSAgcq8Bl0"
      }
    },
    {
      "cell_type": "code",
      "source": [
        "def original_fn(x):\n",
        "    for _ in range(100000):\n",
        "        pass\n",
        "    y = (x + 3) * 4\n",
        "    z = (x ** y) - 3 * y\n",
        "    x = x**2\n",
        "    f = ivy.var(y)\n",
        "    k = np.cos(x)\n",
        "    m = ivy.sin(k)\n",
        "    o = np.tan(m)\n",
        "    return x"
      ],
      "metadata": {
        "id": "s_h2e6Hb7YBH"
      },
      "execution_count": null,
      "outputs": []
    },
    {
      "cell_type": "markdown",
      "source": [
        "## Compile the function"
      ],
      "metadata": {
        "id": "T0K1nUUf7kfw"
      }
    },
    {
      "cell_type": "code",
      "source": [
        "comp_fn = ic.compile_graph(original_fn, x)"
      ],
      "metadata": {
        "id": "_NM1Y2iB7l6C"
      },
      "execution_count": null,
      "outputs": []
    },
    {
      "cell_type": "markdown",
      "source": [
        "## Check results"
      ],
      "metadata": {
        "id": "m27AtqrO7m3o"
      }
    },
    {
      "cell_type": "markdown",
      "source": [
        "Given that function is compiled, its result can be compared to the original function."
      ],
      "metadata": {
        "id": "A5Byw0iv80xg"
      }
    },
    {
      "cell_type": "code",
      "source": [
        "expected_result = original_fn(x)\n",
        "compiled_result = comp_fn(x)\n",
        "\n",
        "print(expected_result)\n",
        "print(compiled_result)"
      ],
      "metadata": {
        "id": "J7MOvQMx7o6-"
      },
      "execution_count": null,
      "outputs": []
    },
    {
      "cell_type": "markdown",
      "source": [
        "As you can see, both functions produce the same results, which is what we want 🙂!"
      ],
      "metadata": {
        "id": "I011mvnf8-7H"
      }
    },
    {
      "cell_type": "markdown",
      "source": [
        "# Compiling simple neural network 🧠"
      ],
      "metadata": {
        "id": "EUcFPpZrEVhK"
      }
    },
    {
      "cell_type": "markdown",
      "source": [
        "Similarly to compiling functions, you can compile a neural network. The compilation works in exactly the same manner and will ignore all irrelevant opeations."
      ],
      "metadata": {
        "id": "bTv-pXulEeiU"
      }
    },
    {
      "cell_type": "markdown",
      "source": [
        "### Define Model"
      ],
      "metadata": {
        "id": "grtTGfG4E0SN"
      }
    },
    {
      "cell_type": "code",
      "source": [
        "class Network(ivy.Module):\n",
        "    def __init__(self):\n",
        "        self._layer = ivy.Linear(3, 3)\n",
        "        ivy.Module.__init__(self)\n",
        "\n",
        "    def _forward(self, x):\n",
        "        return self._layer(x)"
      ],
      "metadata": {
        "id": "aWqSPXh5EZo6"
      },
      "execution_count": null,
      "outputs": []
    },
    {
      "cell_type": "markdown",
      "source": [
        "## Create model"
      ],
      "metadata": {
        "id": "7A60qulhE7hm"
      }
    },
    {
      "cell_type": "code",
      "source": [
        "net = Network()"
      ],
      "metadata": {
        "id": "j7EjGR7PFAXq"
      },
      "execution_count": null,
      "outputs": []
    },
    {
      "cell_type": "markdown",
      "source": [
        "## Define input"
      ],
      "metadata": {
        "id": "kgUNfD9rE-Ue"
      }
    },
    {
      "cell_type": "code",
      "source": [
        "x = ivy.array([1., 2., 3.])"
      ],
      "metadata": {
        "id": "T9ADnHm4FB_W"
      },
      "execution_count": null,
      "outputs": []
    },
    {
      "cell_type": "markdown",
      "source": [
        "## Compile network"
      ],
      "metadata": {
        "id": "x94oyaIjFDxV"
      }
    },
    {
      "cell_type": "code",
      "source": [
        "compiled_net = ic.compile_graph(net, x)"
      ],
      "metadata": {
        "id": "mlFE1OOZE6Z3"
      },
      "execution_count": null,
      "outputs": []
    },
    {
      "cell_type": "markdown",
      "source": [
        "## Check results"
      ],
      "metadata": {
        "id": "U34MRxU1FHys"
      }
    },
    {
      "cell_type": "code",
      "source": [
        "print(net(x))\n",
        "print(compiled_net(x))"
      ],
      "metadata": {
        "id": "kGm9euXwFIwr"
      },
      "execution_count": null,
      "outputs": []
    }
  ]
}